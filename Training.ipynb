{
 "cells": [
  {
   "cell_type": "code",
   "execution_count": 1,
   "metadata": {},
   "outputs": [],
   "source": [
    "import pandas as pd\n",
    "import numpy as np\n",
    "import seaborn as sns\n",
    "from itertools import combinations\n",
    "import matplotlib.pyplot as plt"
   ]
  },
  {
   "cell_type": "markdown",
   "metadata": {},
   "source": [
    "**Data Description**<br>\n",
    "Attached are the absolute value (unitless) and phase value (in unit of rad) of the sound field distribution corresponding to 20 different input locations.\n",
    "\n",
    "In each file, there is a matrix containing two columns of data, The first column represents the spatial coordinates of the field distribution. The second column represents the absolute or phase values. The spatial coordinates in the first column starts from 0, goes up to 100, and jump back to 0, goes up to 100 again. Each group of data from 0-100 represents the field distribution generates by one input location. There are in total 20 groups of data, corresponding to 2 different input location."
   ]
  },
  {
   "cell_type": "code",
   "execution_count": 108,
   "metadata": {},
   "outputs": [],
   "source": [
    "abs_val = pd.read_csv(\"abs_p.csv\")"
   ]
  },
  {
   "cell_type": "code",
   "execution_count": 109,
   "metadata": {},
   "outputs": [],
   "source": [
    "phase_val = pd.read_csv(\"arg_p.csv\")"
   ]
  },
  {
   "cell_type": "code",
   "execution_count": 110,
   "metadata": {},
   "outputs": [],
   "source": [
    "# Get rid of the first few rows about data distribution\n",
    "abs_val = abs_val.iloc[7:]\n",
    "phase_val = phase_val.iloc[7:]"
   ]
  },
  {
   "cell_type": "code",
   "execution_count": 121,
   "metadata": {},
   "outputs": [],
   "source": [
    "# Divide the original dataset into 20 groups associated with 20 input points\n",
    "input_group_abs = {}\n",
    "input_group_phase = {}\n",
    "group_start = list(abs_val[abs_val.iloc[:,0] == '0'].index)\n",
    "group_start.append(len(abs_val) + 7)\n",
    "for i in np.arange(len(group_start)-1):\n",
    "    start_idx = group_start[i] - 7\n",
    "    end_idx = group_start[i+1] - 7\n",
    "    group_abs = np.array(abs_val[start_idx:end_idx]).astype(float)\n",
    "    group_phase = np.array(phase_val[start_idx:end_idx]).astype(float)\n",
    "    input_group_abs[i+1] = group_abs\n",
    "    input_group_phase[i+1] = group_phase "
   ]
  },
  {
   "cell_type": "code",
   "execution_count": null,
   "metadata": {},
   "outputs": [],
   "source": []
  }
 ],
 "metadata": {
  "kernelspec": {
   "display_name": "Python 3",
   "language": "python",
   "name": "python3"
  },
  "language_info": {
   "codemirror_mode": {
    "name": "ipython",
    "version": 3
   },
   "file_extension": ".py",
   "mimetype": "text/x-python",
   "name": "python",
   "nbconvert_exporter": "python",
   "pygments_lexer": "ipython3",
   "version": "3.7.3"
  }
 },
 "nbformat": 4,
 "nbformat_minor": 2
}
