{
 "cells": [
  {
   "cell_type": "code",
   "execution_count": 121,
   "metadata": {},
   "outputs": [],
   "source": [
    "import pandas as pd\n",
    "import numpy as np\n",
    "import seaborn as sns\n",
    "from itertools import combinations\n",
    "import matplotlib.pyplot as plt"
   ]
  },
  {
   "cell_type": "markdown",
   "metadata": {},
   "source": [
    "**Data Description**<br>\n",
    "Attached are the absolute value (unitless) and phase value (in unit of rad) of the sound field distribution corresponding to 20 different input locations.\n",
    "\n",
    "In each file, there is a matrix containing two columns of data, The first column represents the spatial coordinates of the field distribution. The second column represents the absolute or phase values. The spatial coordinates in the first column starts from 0, goes up to 100, and jump back to 0, goes up to 100 again. Each group of data from 0-100 represents the field distribution generates by one input location. There are in total 20 groups of data, corresponding to 2 different input location.\n",
    "\n",
    "When you separate the data into 20 groups, each of them corresponds to the output (field distribution along a line) when the input is from a particular location along another line. For example, the first group corresponds to the location x = 1, the second group corresponds to location x = 2, the 20th group corresponds to x = 20.\n",
    "\n",
    "The goal is to use those data to train the model so that: If I have a particular output, which is the linear combination of any of the 20 output groups, I know the combination of input locations. \n",
    "\n",
    "The training data can be any of the linear combinations of the 20 groups."
   ]
  },
  {
   "cell_type": "code",
   "execution_count": 122,
   "metadata": {},
   "outputs": [],
   "source": [
    "abs_val = pd.read_csv(\"abs_p.csv\")"
   ]
  },
  {
   "cell_type": "code",
   "execution_count": 123,
   "metadata": {},
   "outputs": [],
   "source": [
    "phase_val = pd.read_csv(\"arg_p.csv\")"
   ]
  },
  {
   "cell_type": "code",
   "execution_count": 124,
   "metadata": {},
   "outputs": [],
   "source": [
    "# Get rid of the first few rows about data distribution\n",
    "abs_val = abs_val.iloc[7:]\n",
    "phase_val = phase_val.iloc[7:]"
   ]
  },
  {
   "cell_type": "code",
   "execution_count": 125,
   "metadata": {},
   "outputs": [],
   "source": [
    "# Divide the original dataset into 20 groups associated with 20 input points\n",
    "input_dist = list()\n",
    "group_start = list(abs_val[abs_val.iloc[:,0] == '0'].index)\n",
    "group_start.append(len(abs_val) + 7)\n",
    "for i in np.arange(len(group_start)-1):\n",
    "    start_idx = group_start[i] - 7\n",
    "    end_idx = group_start[i+1] - 7\n",
    "    group_abs = np.array(abs_val[start_idx:end_idx]).astype(float)\n",
    "    group_phase = np.array(phase_val[start_idx:end_idx]).astype(float)\n",
    "    #wave_pressure = group_abs[:,1] * np.exp(group_phase[:,1]*1j)\n",
    "    wave_pressure = group_abs[:,1] * np.exp(group_phase[:,1])\n",
    "    input_dist.append(wave_pressure)\n",
    "input_dist = np.array(input_dist)"
   ]
  },
  {
   "cell_type": "code",
   "execution_count": 126,
   "metadata": {},
   "outputs": [],
   "source": [
    "# Randomly generate data set\n",
    "position = np.arange(20) + 1\n",
    "choices = list()\n",
    "output = list()\n",
    "for i in np.arange(1e4):\n",
    "    random_a = np.random.uniform()\n",
    "    random_b = 1 - random_a\n",
    "    choice = np.random.choice([0, 1], size=20, p=[random_a, random_b])\n",
    "    choices.append(choice)\n",
    "    output.append(sum(input_dist[choice.astype(bool)]))"
   ]
  },
  {
   "cell_type": "markdown",
   "metadata": {},
   "source": [
    "Use several supervised learning method and then compare the best one with the score return.\n",
    "Will try about the decesion trees, random forest, linear regression, SVM, and logistic regression. No need to use neural network."
   ]
  },
  {
   "cell_type": "code",
   "execution_count": 127,
   "metadata": {},
   "outputs": [],
   "source": [
    "# import all the possible machine learning packages\n",
    "from sklearn.model_selection import train_test_split\n",
    "# out_train, out_test = train_test_split(output, test_size = 0.2, random_state=42)\n",
    "from sklearn.tree import DecisionTreeRegressor\n",
    "from sklearn.linear_model import LinearRegression\n"
   ]
  },
  {
   "cell_type": "code",
   "execution_count": 128,
   "metadata": {},
   "outputs": [],
   "source": [
    "lin_reg = LinearRegression()\n",
    "tree_reg = DecisionTreeRegressor()"
   ]
  },
  {
   "cell_type": "code",
   "execution_count": 129,
   "metadata": {},
   "outputs": [],
   "source": [
    "input_dist = np.asmatrix(input_dist).transpose()\n",
    "model = lin_reg.fit(input_dist,output[1])"
   ]
  },
  {
   "cell_type": "code",
   "execution_count": 130,
   "metadata": {},
   "outputs": [
    {
     "data": {
      "text/plain": [
       "array([ 1.00000000e+00,  2.24621029e-15,  1.82891211e-15,  1.75626187e-15,\n",
       "        2.37061698e-15,  1.80937828e-15,  1.09045805e-15,  8.31721692e-16,\n",
       "        1.00000000e+00,  1.00000000e+00,  1.00000000e+00, -8.81579572e-17,\n",
       "        1.00000000e+00, -1.60688889e-15, -1.43946289e-15, -2.54121796e-15,\n",
       "       -1.78706784e-15,  1.00000000e+00,  1.00000000e+00,  1.83452811e-16])"
      ]
     },
     "execution_count": 130,
     "metadata": {},
     "output_type": "execute_result"
    }
   ],
   "source": [
    "model.coef_"
   ]
  },
  {
   "cell_type": "code",
   "execution_count": 131,
   "metadata": {},
   "outputs": [
    {
     "data": {
      "text/plain": [
       "array([1, 0, 0, 0, 0, 0, 0, 0, 1, 1, 1, 0, 1, 0, 0, 0, 0, 1, 1, 0])"
      ]
     },
     "execution_count": 131,
     "metadata": {},
     "output_type": "execute_result"
    }
   ],
   "source": [
    "choices[1]"
   ]
  },
  {
   "cell_type": "code",
   "execution_count": null,
   "metadata": {},
   "outputs": [],
   "source": []
  }
 ],
 "metadata": {
  "kernelspec": {
   "display_name": "Python 3",
   "language": "python",
   "name": "python3"
  },
  "language_info": {
   "codemirror_mode": {
    "name": "ipython",
    "version": 3
   },
   "file_extension": ".py",
   "mimetype": "text/x-python",
   "name": "python",
   "nbconvert_exporter": "python",
   "pygments_lexer": "ipython3",
   "version": "3.7.3"
  }
 },
 "nbformat": 4,
 "nbformat_minor": 2
}
